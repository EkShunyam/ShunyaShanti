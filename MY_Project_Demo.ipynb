{
  "nbformat": 4,
  "nbformat_minor": 0,
  "metadata": {
    "colab": {
      "name": "MY_Project_Demo.ipynb",
      "provenance": [],
      "authorship_tag": "ABX9TyNmdDFvSOpH48tkYTJFsBHL",
      "include_colab_link": true
    },
    "kernelspec": {
      "name": "python3",
      "display_name": "Python 3"
    },
    "language_info": {
      "name": "python"
    }
  },
  "cells": [
    {
      "cell_type": "markdown",
      "metadata": {
        "id": "view-in-github",
        "colab_type": "text"
      },
      "source": [
        "<a href=\"https://colab.research.google.com/github/ShunyaShanti/ShunyaShanti/blob/main/MY_Project_Demo.ipynb\" target=\"_parent\"><img src=\"https://colab.research.google.com/assets/colab-badge.svg\" alt=\"Open In Colab\"/></a>"
      ]
    },
    {
      "cell_type": "markdown",
      "metadata": {
        "id": "sz7gPQN0zmi8"
      },
      "source": [
        "# New Section"
      ]
    },
    {
      "cell_type": "markdown",
      "source": [
        "testing functionality\n"
      ],
      "metadata": {
        "id": "K6yiX79Aj1KR"
      }
    },
    {
      "cell_type": "code",
      "source": [
        "for i in range(10):\n",
        "  print(i)"
      ],
      "metadata": {
        "colab": {
          "base_uri": "https://localhost:8080/"
        },
        "id": "JdURl3_Nj5Fq",
        "outputId": "8620d23d-38f9-48b6-83bb-b7df0a159fef"
      },
      "execution_count": 4,
      "outputs": [
        {
          "output_type": "stream",
          "name": "stdout",
          "text": [
            "0\n",
            "1\n",
            "2\n",
            "3\n",
            "4\n",
            "5\n",
            "6\n",
            "7\n",
            "8\n",
            "9\n"
          ]
        }
      ]
    }
  ]
}